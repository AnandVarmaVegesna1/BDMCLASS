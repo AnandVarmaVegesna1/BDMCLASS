{
  "nbformat": 4,
  "nbformat_minor": 0,
  "metadata": {
    "colab": {
      "provenance": [],
      "toc_visible": true,
      "authorship_tag": "ABX9TyM/WqY+odzH8rfd3D70XpVb",
      "include_colab_link": true
    },
    "kernelspec": {
      "name": "python3",
      "display_name": "Python 3"
    },
    "language_info": {
      "name": "python"
    }
  },
  "cells": [
    {
      "cell_type": "markdown",
      "metadata": {
        "id": "view-in-github",
        "colab_type": "text"
      },
      "source": [
        "<a href=\"https://colab.research.google.com/github/AnandVarmaVegesna1/BDMCLASS/blob/main/week2.ipynb\" target=\"_parent\"><img src=\"https://colab.research.google.com/assets/colab-badge.svg\" alt=\"Open In Colab\"/></a>"
      ]
    },
    {
      "cell_type": "code",
      "execution_count": null,
      "metadata": {
        "id": "AyMYMQh-b53r"
      },
      "outputs": [],
      "source": []
    },
    {
      "cell_type": "code",
      "source": [
        "#5 reversetheresultant\n",
        "#a\n",
        "text ='python'\n",
        "text_update=text[:-2]\n",
        "print(text_update[::-1])\n",
        "\n",
        "#b 4 arithmetic operations\n",
        "a = float(input(\"Enter first number: \"))\n",
        "b = float(input(\"Enter second number: \"))\n",
        "\n",
        "print(\"Addition:\", a + b)\n",
        "print(\"Subtraction:\", a - b)\n",
        "print(\"Multiplication:\", a * b)\n",
        "print(\"Division:\", a / b if b != 0 else \"Undefined\")"
      ],
      "metadata": {
        "colab": {
          "base_uri": "https://localhost:8080/"
        },
        "id": "W7O_yH33c5AQ",
        "outputId": "8a84ca8a-f539-471b-a824-bca6c7659b40"
      },
      "execution_count": 1,
      "outputs": [
        {
          "output_type": "stream",
          "name": "stdout",
          "text": [
            "htyp\n",
            "Enter first number: 2\n",
            "Enter second number: 2\n",
            "Addition: 4.0\n",
            "Subtraction: 0.0\n",
            "Multiplication: 4.0\n",
            "Division: 1.0\n"
          ]
        }
      ]
    },
    {
      "cell_type": "code",
      "source": [
        "#6 sentence replacement for python\n",
        "sentence = input(\"Enter a sentence: \")\n",
        "updated_sentence = sentence.replace(\"python\", \"pythons\")\n",
        "print(\"Updated sentence:\", updated_sentence)"
      ],
      "metadata": {
        "colab": {
          "base_uri": "https://localhost:8080/"
        },
        "id": "ddddQRpzdd1B",
        "outputId": "8d37869f-5e19-4900-fcd3-705de5e2d497"
      },
      "execution_count": 6,
      "outputs": [
        {
          "output_type": "stream",
          "name": "stdout",
          "text": [
            "Enter a sentence: i dont like python\n",
            "Updated sentence: i dont like pythons\n"
          ]
        }
      ]
    },
    {
      "cell_type": "code",
      "source": [
        "#7\n",
        "score = float(input(\"Enter your class score (0-100): \"))\n",
        "\n",
        "if score >= 90:\n",
        "    print(\"Grade: A\")\n",
        "elif score >= 80:\n",
        "    print(\"Grade: B\")\n",
        "elif score >= 70:\n",
        "    print(\"Grade: C\")\n",
        "elif score >= 60:\n",
        "    print(\"Grade: D\")\n",
        "else:\n",
        "    print(\"Grade: F\")"
      ],
      "metadata": {
        "colab": {
          "base_uri": "https://localhost:8080/"
        },
        "id": "8o6sDWxhdeCz",
        "outputId": "acc1d3f0-5137-4c3e-ca30-deeb06334d86"
      },
      "execution_count": 7,
      "outputs": [
        {
          "output_type": "stream",
          "name": "stdout",
          "text": [
            "Enter your class score (0-100): 67\n",
            "Grade: D\n"
          ]
        }
      ]
    },
    {
      "cell_type": "code",
      "source": [
        "#8\n",
        "\n",
        "x = [23, 'Python', 23.98]\n",
        "\n",
        "print(x)\n",
        "print([type(i) for i in x])"
      ],
      "metadata": {
        "colab": {
          "base_uri": "https://localhost:8080/"
        },
        "id": "6_M8UAt3eN33",
        "outputId": "e1bec180-53ce-46d8-e7e0-f2c0ad48b455"
      },
      "execution_count": 4,
      "outputs": [
        {
          "output_type": "stream",
          "name": "stdout",
          "text": [
            "[23, 'Python', 23.98]\n",
            "[<class 'int'>, <class 'str'>, <class 'float'>]\n"
          ]
        }
      ]
    },
    {
      "cell_type": "code",
      "source": [],
      "metadata": {
        "id": "6NtvEOL_f2N_"
      },
      "execution_count": null,
      "outputs": []
    },
    {
      "cell_type": "code",
      "source": [
        "#9\n",
        "\n",
        "IT_companies = {'Facebook', 'Google', 'Microsoft', 'Apple', 'IBM', 'Oracle', 'Amazon'}\n",
        "A = {19, 22, 24, 20, 25, 26}\n",
        "B = {19, 22, 20, 25, 26, 24, 28, 27}\n",
        "age = [22, 19, 24, 25, 26, 24, 25, 24]\n",
        "print (\"length of the set IT_companies\", len (IT_companies))\n",
        "\n",
        "IT_companies.add('Twitter')\n",
        "print(\"After adding Twitter:\", IT_companies)\n",
        "\n",
        "IT_companies.update(['TCS', 'Infosys',])\n",
        "print(\"After adding multiple companies:\", IT_companies)\n",
        "\n",
        "IT_companies.remove('Facebook')\n",
        "print(\"After removing Facebook:\", IT_companies)\n",
        "\n",
        "IT_companies.discard('NonExistentCompany')\n",
        "\n",
        "print(\"A union B:\", A.union(B))\n",
        "\n",
        "print(\"A intersection B:\", A.intersection(B))\n",
        "\n",
        "print(\"Is A subset of B?:\", A.issubset(B))\n",
        "\n",
        "print(\"Are A and B disjoint?:\", A.isdisjoint(B))\n",
        "\n",
        "print(\"A union B:\", A | B)\n",
        "print(\"B union A:\", B | A)\n",
        "\n",
        "print(\"Symmetric difference between A and B:\", A.symmetric_difference(B))\n",
        "\n",
        "del A\n",
        "del B\n",
        "\n",
        "age_set = set(age)\n",
        "print(\"Length of age list:\", len(age))\n",
        "print(\"Length of age set (unique values):\", len(age_set))"
      ],
      "metadata": {
        "colab": {
          "base_uri": "https://localhost:8080/"
        },
        "id": "QOT8VN28f2ZL",
        "outputId": "4d2934e5-f913-43c3-886e-a1edd425e478"
      },
      "execution_count": 5,
      "outputs": [
        {
          "output_type": "stream",
          "name": "stdout",
          "text": [
            "length of the set IT_companies 7\n",
            "After adding Twitter: {'Oracle', 'Google', 'Microsoft', 'Twitter', 'IBM', 'Facebook', 'Apple', 'Amazon'}\n",
            "After adding multiple companies: {'Oracle', 'IBM', 'Facebook', 'Google', 'Twitter', 'TCS', 'Microsoft', 'Infosys', 'Apple', 'Amazon', 'Wipro'}\n",
            "After removing Facebook: {'Oracle', 'IBM', 'Google', 'Twitter', 'TCS', 'Microsoft', 'Infosys', 'Apple', 'Amazon', 'Wipro'}\n",
            "A union B: {19, 20, 22, 24, 25, 26, 27, 28}\n",
            "A intersection B: {19, 20, 22, 24, 25, 26}\n",
            "Is A subset of B?: True\n",
            "Are A and B disjoint?: False\n",
            "A union B: {19, 20, 22, 24, 25, 26, 27, 28}\n",
            "B union A: {19, 20, 22, 24, 25, 26, 27, 28}\n",
            "Symmetric difference between A and B: {27, 28}\n",
            "Length of age list: 8\n",
            "Length of age set (unique values): 5\n"
          ]
        }
      ]
    },
    {
      "cell_type": "code",
      "source": [
        "\n"
      ],
      "metadata": {
        "id": "U8hlspxlf7q7"
      },
      "execution_count": null,
      "outputs": []
    }
  ]
}