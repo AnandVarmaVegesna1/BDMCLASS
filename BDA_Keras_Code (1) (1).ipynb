{
 "nbformat": 4,
 "nbformat_minor": 0,
 "metadata": {
  "colab": {
   "provenance": []
  },
  "kernelspec": {
   "name": "python3",
   "display_name": "Python 3"
  },
  "language_info": {
   "name": "python"
  }
 },
 "cells": [
  {
   "cell_type": "markdown",
   "source": [
    "***Simple Neural Network with Keras Sequential API***"
   ],
   "metadata": {
    "id": "f8QdGW-45_Tv"
   }
  },
  {
   "metadata": {
    "ExecuteTime": {
     "end_time": "2025-07-23T22:00:23.255225Z",
     "start_time": "2025-07-23T22:00:22.634120Z"
    }
   },
   "cell_type": "code",
   "source": [
    "import tensorflow as tf\n",
    "from tensorflow.keras.models import Sequential\n",
    "from tensorflow.keras.layers import Dense\n",
    "import numpy as np\n",
    "\n",
    "# Simulated multi-class dataset with 10 classes\n",
    "x_train = np.random.random((1000, 20))\n",
    "y_train = tf.keras.utils.to_categorical(np.random.randint(10, size=(1000,)), num_classes=10)\n",
    "\n",
    "x_test = np.random.random((200, 20))\n",
    "y_test = tf.keras.utils.to_categorical(np.random.randint(10, size=(200,)), num_classes=10)\n",
    "\n",
    "# Build the model\n",
    "model = Sequential()\n",
    "model.add(Dense(128, activation='relu', input_shape=(20,)))\n",
    "model.add(Dense(64, activation='relu'))\n",
    "model.add(Dense(64, activation='relu'))\n",
    "model.add(Dense(32, activation='relu'))\n",
    "model.add(Dense(16, activation='relu'))\n",
    "model.add(Dense(10, activation='softmax'))  # 10-class output\n",
    "\n",
    "# Compile the model\n",
    "model.compile(optimizer='adam',\n",
    "              loss='categorical_crossentropy',\n",
    "              metrics=['accuracy'])\n",
    "\n",
    "# Train the model\n",
    "model.fit(x_train, y_train, epochs=10, batch_size=32)\n",
    "\n",
    "# Evaluate the model\n",
    "test_loss, test_acc = model.evaluate(x_test, y_test)\n",
    "print(f'Test accuracy: {test_acc}')"
   ],
   "outputs": [
    {
     "name": "stdout",
     "output_type": "stream",
     "text": [
      "Epoch 1/10\n"
     ]
    },
    {
     "name": "stderr",
     "output_type": "stream",
     "text": [
      "/opt/anaconda3/envs/ICP3_B.ipynb/lib/python3.12/site-packages/keras/src/layers/core/dense.py:93: UserWarning: Do not pass an `input_shape`/`input_dim` argument to a layer. When using Sequential models, prefer using an `Input(shape)` object as the first layer in the model instead.\n",
      "  super().__init__(activity_regularizer=activity_regularizer, **kwargs)\n"
     ]
    },
    {
     "name": "stdout",
     "output_type": "stream",
     "text": [
      "\u001B[1m32/32\u001B[0m \u001B[32m━━━━━━━━━━━━━━━━━━━━\u001B[0m\u001B[37m\u001B[0m \u001B[1m0s\u001B[0m 610us/step - accuracy: 0.0941 - loss: 2.3032\n",
      "Epoch 2/10\n",
      "\u001B[1m32/32\u001B[0m \u001B[32m━━━━━━━━━━━━━━━━━━━━\u001B[0m\u001B[37m\u001B[0m \u001B[1m0s\u001B[0m 528us/step - accuracy: 0.1161 - loss: 2.2970\n",
      "Epoch 3/10\n",
      "\u001B[1m32/32\u001B[0m \u001B[32m━━━━━━━━━━━━━━━━━━━━\u001B[0m\u001B[37m\u001B[0m \u001B[1m0s\u001B[0m 491us/step - accuracy: 0.1128 - loss: 2.2942\n",
      "Epoch 4/10\n",
      "\u001B[1m32/32\u001B[0m \u001B[32m━━━━━━━━━━━━━━━━━━━━\u001B[0m\u001B[37m\u001B[0m \u001B[1m0s\u001B[0m 456us/step - accuracy: 0.1202 - loss: 2.2854\n",
      "Epoch 5/10\n",
      "\u001B[1m32/32\u001B[0m \u001B[32m━━━━━━━━━━━━━━━━━━━━\u001B[0m\u001B[37m\u001B[0m \u001B[1m0s\u001B[0m 533us/step - accuracy: 0.1501 - loss: 2.2782\n",
      "Epoch 6/10\n",
      "\u001B[1m32/32\u001B[0m \u001B[32m━━━━━━━━━━━━━━━━━━━━\u001B[0m\u001B[37m\u001B[0m \u001B[1m0s\u001B[0m 483us/step - accuracy: 0.1433 - loss: 2.2715\n",
      "Epoch 7/10\n",
      "\u001B[1m32/32\u001B[0m \u001B[32m━━━━━━━━━━━━━━━━━━━━\u001B[0m\u001B[37m\u001B[0m \u001B[1m0s\u001B[0m 489us/step - accuracy: 0.1689 - loss: 2.2545\n",
      "Epoch 8/10\n",
      "\u001B[1m32/32\u001B[0m \u001B[32m━━━━━━━━━━━━━━━━━━━━\u001B[0m\u001B[37m\u001B[0m \u001B[1m0s\u001B[0m 495us/step - accuracy: 0.1780 - loss: 2.2495\n",
      "Epoch 9/10\n",
      "\u001B[1m32/32\u001B[0m \u001B[32m━━━━━━━━━━━━━━━━━━━━\u001B[0m\u001B[37m\u001B[0m \u001B[1m0s\u001B[0m 480us/step - accuracy: 0.1662 - loss: 2.2410\n",
      "Epoch 10/10\n",
      "\u001B[1m32/32\u001B[0m \u001B[32m━━━━━━━━━━━━━━━━━━━━\u001B[0m\u001B[37m\u001B[0m \u001B[1m0s\u001B[0m 481us/step - accuracy: 0.1975 - loss: 2.2209\n",
      "\u001B[1m7/7\u001B[0m \u001B[32m━━━━━━━━━━━━━━━━━━━━\u001B[0m\u001B[37m\u001B[0m \u001B[1m0s\u001B[0m 1ms/step - accuracy: 0.1023 - loss: 2.2800     \n",
      "Test accuracy: 0.11999999731779099\n"
     ]
    }
   ],
   "execution_count": 13
  },
  {
   "metadata": {
    "tags": [
     "h1"
    ]
   },
   "cell_type": "code",
   "outputs": [],
   "execution_count": null,
   "source": "#***Simple Neural Network with Keras Sequential API***\n"
  },
  {
   "metadata": {
    "ExecuteTime": {
     "end_time": "2025-07-23T22:59:53.431149Z",
     "start_time": "2025-07-23T22:59:12.138702Z"
    }
   },
   "cell_type": "code",
   "source": [
    "from tensorflow.keras.datasets import mnist\n",
    "from tensorflow.keras.models import Sequential\n",
    "from tensorflow.keras.layers import Dense, Flatten\n",
    "from tensorflow.keras.utils import to_categorical\n",
    "from tensorflow.keras.layers import Dropout\n",
    "from tensorflow.keras.optimizers import RMSprop\n",
    "\n",
    "\n",
    "# Load data\n",
    "(x_train, y_train), (x_test, y_test) = mnist.load_data()\n",
    "# Normalize\n",
    "x_train = x_train / 255.0\n",
    "x_test = x_test / 255.0\n",
    "# One-hot encode labels\n",
    "y_train = to_categorical(y_train, 10)\n",
    "y_test = to_categorical(y_test, 10)\n",
    "\n",
    "# Build model\n",
    "model = Sequential([\n",
    "    Flatten(input_shape=(28, 28)),\n",
    "    Dense(512, activation='relu'),\n",
    "    Dropout(0.2),\n",
    "    Dense(256, activation='relu'),\n",
    "    Dropout(0.2),\n",
    "    Dense(128, activation='relu'),\n",
    "    Dropout(0.2),\n",
    "    Dense(64, activation='relu'),\n",
    "    Dense(10, activation='softmax')\n",
    "])\n",
    "\n",
    "# Compile\n",
    "#model.compile(optimizer='adam',\n",
    "#  loss='categorical_crossentropy',\n",
    "#  metrics=['accuracy'])\n",
    "\n",
    "#model.compile(optimizer=RMSprop(learning_rate=0.0005),\n",
    "#             loss='categorical_crossentropy',\n",
    "#             metrics=['accuracy'])\n",
    "\n",
    "model.compile(optimizer=tf.keras.optimizers.Adam(learning_rate=0.0005),\n",
    "              loss='categorical_crossentropy',\n",
    "              metrics=['accuracy'])\n",
    "\n",
    "# Train\n",
    "model.fit(x_train, y_train, epochs=30, batch_size=128, validation_split=0.1,verbose=2)\n",
    "\n",
    "# Evaluate\n",
    "test_loss, test_acc = model.evaluate(x_test, y_test,verbose=0)\n",
    "print(f'Test accuracy: {test_acc:.4f}')"
   ],
   "outputs": [
    {
     "name": "stdout",
     "output_type": "stream",
     "text": [
      "Epoch 1/30\n",
      "422/422 - 2s - 4ms/step - accuracy: 0.8716 - loss: 0.4277 - val_accuracy: 0.9648 - val_loss: 0.1160\n",
      "Epoch 2/30\n",
      "422/422 - 1s - 3ms/step - accuracy: 0.9548 - loss: 0.1511 - val_accuracy: 0.9720 - val_loss: 0.0946\n",
      "Epoch 3/30\n",
      "422/422 - 1s - 3ms/step - accuracy: 0.9682 - loss: 0.1062 - val_accuracy: 0.9780 - val_loss: 0.0764\n",
      "Epoch 4/30\n",
      "422/422 - 1s - 3ms/step - accuracy: 0.9753 - loss: 0.0804 - val_accuracy: 0.9790 - val_loss: 0.0712\n",
      "Epoch 5/30\n",
      "422/422 - 1s - 3ms/step - accuracy: 0.9794 - loss: 0.0660 - val_accuracy: 0.9810 - val_loss: 0.0701\n",
      "Epoch 6/30\n",
      "422/422 - 1s - 3ms/step - accuracy: 0.9832 - loss: 0.0534 - val_accuracy: 0.9797 - val_loss: 0.0734\n",
      "Epoch 7/30\n",
      "422/422 - 1s - 3ms/step - accuracy: 0.9849 - loss: 0.0475 - val_accuracy: 0.9830 - val_loss: 0.0654\n",
      "Epoch 8/30\n",
      "422/422 - 1s - 3ms/step - accuracy: 0.9873 - loss: 0.0397 - val_accuracy: 0.9810 - val_loss: 0.0704\n",
      "Epoch 9/30\n",
      "422/422 - 1s - 3ms/step - accuracy: 0.9891 - loss: 0.0356 - val_accuracy: 0.9830 - val_loss: 0.0684\n",
      "Epoch 10/30\n",
      "422/422 - 1s - 3ms/step - accuracy: 0.9901 - loss: 0.0316 - val_accuracy: 0.9835 - val_loss: 0.0730\n",
      "Epoch 11/30\n",
      "422/422 - 1s - 3ms/step - accuracy: 0.9906 - loss: 0.0292 - val_accuracy: 0.9812 - val_loss: 0.0719\n",
      "Epoch 12/30\n",
      "422/422 - 1s - 3ms/step - accuracy: 0.9913 - loss: 0.0280 - val_accuracy: 0.9825 - val_loss: 0.0712\n",
      "Epoch 13/30\n",
      "422/422 - 1s - 3ms/step - accuracy: 0.9918 - loss: 0.0253 - val_accuracy: 0.9832 - val_loss: 0.0688\n",
      "Epoch 14/30\n",
      "422/422 - 1s - 3ms/step - accuracy: 0.9932 - loss: 0.0212 - val_accuracy: 0.9808 - val_loss: 0.0826\n",
      "Epoch 15/30\n",
      "422/422 - 1s - 3ms/step - accuracy: 0.9928 - loss: 0.0221 - val_accuracy: 0.9863 - val_loss: 0.0676\n",
      "Epoch 16/30\n",
      "422/422 - 1s - 3ms/step - accuracy: 0.9940 - loss: 0.0193 - val_accuracy: 0.9803 - val_loss: 0.0787\n",
      "Epoch 17/30\n",
      "422/422 - 1s - 3ms/step - accuracy: 0.9933 - loss: 0.0198 - val_accuracy: 0.9840 - val_loss: 0.0717\n",
      "Epoch 18/30\n",
      "422/422 - 1s - 3ms/step - accuracy: 0.9938 - loss: 0.0178 - val_accuracy: 0.9832 - val_loss: 0.0777\n",
      "Epoch 19/30\n",
      "422/422 - 1s - 3ms/step - accuracy: 0.9943 - loss: 0.0175 - val_accuracy: 0.9822 - val_loss: 0.0746\n",
      "Epoch 20/30\n",
      "422/422 - 1s - 3ms/step - accuracy: 0.9945 - loss: 0.0172 - val_accuracy: 0.9837 - val_loss: 0.0736\n",
      "Epoch 21/30\n",
      "422/422 - 1s - 3ms/step - accuracy: 0.9955 - loss: 0.0140 - val_accuracy: 0.9835 - val_loss: 0.0685\n",
      "Epoch 22/30\n",
      "422/422 - 1s - 3ms/step - accuracy: 0.9949 - loss: 0.0156 - val_accuracy: 0.9812 - val_loss: 0.0896\n",
      "Epoch 23/30\n",
      "422/422 - 1s - 3ms/step - accuracy: 0.9952 - loss: 0.0151 - val_accuracy: 0.9852 - val_loss: 0.0691\n",
      "Epoch 24/30\n",
      "422/422 - 1s - 3ms/step - accuracy: 0.9951 - loss: 0.0151 - val_accuracy: 0.9853 - val_loss: 0.0655\n",
      "Epoch 25/30\n",
      "422/422 - 1s - 3ms/step - accuracy: 0.9958 - loss: 0.0129 - val_accuracy: 0.9843 - val_loss: 0.0769\n",
      "Epoch 26/30\n",
      "422/422 - 1s - 4ms/step - accuracy: 0.9954 - loss: 0.0138 - val_accuracy: 0.9837 - val_loss: 0.0790\n",
      "Epoch 27/30\n",
      "422/422 - 1s - 3ms/step - accuracy: 0.9957 - loss: 0.0137 - val_accuracy: 0.9862 - val_loss: 0.0657\n",
      "Epoch 28/30\n",
      "422/422 - 1s - 3ms/step - accuracy: 0.9964 - loss: 0.0109 - val_accuracy: 0.9827 - val_loss: 0.0901\n",
      "Epoch 29/30\n",
      "422/422 - 1s - 3ms/step - accuracy: 0.9954 - loss: 0.0149 - val_accuracy: 0.9847 - val_loss: 0.0746\n",
      "Epoch 30/30\n",
      "422/422 - 1s - 3ms/step - accuracy: 0.9961 - loss: 0.0121 - val_accuracy: 0.9857 - val_loss: 0.0813\n",
      "Test accuracy: 0.9820\n"
     ]
    }
   ],
   "execution_count": 23
  },
  {
   "metadata": {},
   "cell_type": "code",
   "outputs": [],
   "execution_count": null,
   "source": ""
  },
  {
   "metadata": {},
   "cell_type": "code",
   "outputs": [],
   "execution_count": null,
   "source": "#done"
  },
  {
   "cell_type": "markdown",
   "source": [
    "***Sequential API to create and train a neural network for classifying the MNIST dataset.***"
   ],
   "metadata": {
    "id": "ske7X0_r33aI"
   }
  },
  {
   "cell_type": "code",
   "source": [
    "from keras.src.layers import Dropout\n",
    "import tensorflow as tf\n",
    "from tensorflow.keras.models import Sequential\n",
    "from tensorflow.keras.layers import Dense, Flatten\n",
    "from tensorflow.keras.datasets import mnist\n",
    "from tensorflow.keras.utils import to_categorical\n",
    "\n",
    "# Load the MNIST dataset\n",
    "(x_train, y_train), (x_test, y_test) = mnist.load_data()\n",
    "\n",
    "# Preprocess the data: normalize images and one-hot encode labels\n",
    "x_train = x_train.astype('float32') / 255.0\n",
    "x_test = x_test.astype('float32') / 255.0\n",
    "\n",
    "y_train = to_categorical(y_train, 10)\n",
    "y_test = to_categorical(y_test, 10)\n",
    "\n",
    "# Build a Sequential model\n",
    "model = Sequential()\n",
    "# Flatten the input (28x28 images) into a vector of size 784\n",
    "\n",
    "model.add(Dense(256, activation='relu'))\n",
    "model.add(Dropout(0.2))  # helps prevent overfitting\n",
    "\n",
    "model.add(Flatten(input_shape=(28, 28)))\n",
    "# Add a hidden layer with 128 neurons and ReLU activation\n",
    "model.add(Dense(128, activation='relu'))\n",
    "model.add(Dropout(0.2))  # helps prevent overfitting\n",
    "\n",
    "#CHANGE1\n",
    "model.add(Dense(64, activation='relu'))     # Extra hidden layer\n",
    "model.add(Dense(32, activation='relu'))\n",
    "model.add(Dense(16, activation='relu'))   ,\n",
    "\n",
    "# Add the output layer with 10 neurons (one for each class) and softmax activation\n",
    "model.add(Dense(10, activation='softmax'))\n",
    "\n",
    "# Compile the model\n",
    "model.compile(optimizer='adam',\n",
    "              loss='categorical_crossentropy',\n",
    "              metrics=['accuracy'])\n",
    "\n",
    "# Train the model\n",
    "model.fit(x_train, y_train, epochs=15, batch_size=64, validation_split=0.2)\n",
    "\n",
    "# Evaluate the model on the test data\n",
    "test_loss, test_acc = model.evaluate(x_test, y_test)\n",
    "print(f'Test accuracy: {test_acc}')\n"
   ],
   "metadata": {
    "colab": {
     "base_uri": "https://localhost:8080/"
    },
    "id": "ygO844pd3anG",
    "outputId": "650127cc-934e-4814-80d9-db8aedc500bc",
    "ExecuteTime": {
     "end_time": "2025-07-23T23:08:42.100009Z",
     "start_time": "2025-07-23T23:07:42.349054Z"
    }
   },
   "outputs": [
    {
     "name": "stdout",
     "output_type": "stream",
     "text": [
      "Epoch 1/15\n",
      "\u001B[1m750/750\u001B[0m \u001B[32m━━━━━━━━━━━━━━━━━━━━\u001B[0m\u001B[37m\u001B[0m \u001B[1m4s\u001B[0m 5ms/step - accuracy: 0.7864 - loss: 0.6771 - val_accuracy: 0.9626 - val_loss: 0.1284\n",
      "Epoch 2/15\n",
      "\u001B[1m750/750\u001B[0m \u001B[32m━━━━━━━━━━━━━━━━━━━━\u001B[0m\u001B[37m\u001B[0m \u001B[1m3s\u001B[0m 5ms/step - accuracy: 0.9562 - loss: 0.1452 - val_accuracy: 0.9672 - val_loss: 0.1128\n",
      "Epoch 3/15\n",
      "\u001B[1m750/750\u001B[0m \u001B[32m━━━━━━━━━━━━━━━━━━━━\u001B[0m\u001B[37m\u001B[0m \u001B[1m4s\u001B[0m 5ms/step - accuracy: 0.9683 - loss: 0.1012 - val_accuracy: 0.9728 - val_loss: 0.0912\n",
      "Epoch 4/15\n",
      "\u001B[1m750/750\u001B[0m \u001B[32m━━━━━━━━━━━━━━━━━━━━\u001B[0m\u001B[37m\u001B[0m \u001B[1m4s\u001B[0m 5ms/step - accuracy: 0.9735 - loss: 0.0856 - val_accuracy: 0.9737 - val_loss: 0.0921\n",
      "Epoch 5/15\n",
      "\u001B[1m750/750\u001B[0m \u001B[32m━━━━━━━━━━━━━━━━━━━━\u001B[0m\u001B[37m\u001B[0m \u001B[1m4s\u001B[0m 5ms/step - accuracy: 0.9787 - loss: 0.0643 - val_accuracy: 0.9753 - val_loss: 0.0862\n",
      "Epoch 6/15\n",
      "\u001B[1m750/750\u001B[0m \u001B[32m━━━━━━━━━━━━━━━━━━━━\u001B[0m\u001B[37m\u001B[0m \u001B[1m4s\u001B[0m 5ms/step - accuracy: 0.9818 - loss: 0.0564 - val_accuracy: 0.9764 - val_loss: 0.0832\n",
      "Epoch 7/15\n",
      "\u001B[1m750/750\u001B[0m \u001B[32m━━━━━━━━━━━━━━━━━━━━\u001B[0m\u001B[37m\u001B[0m \u001B[1m4s\u001B[0m 5ms/step - accuracy: 0.9843 - loss: 0.0467 - val_accuracy: 0.9768 - val_loss: 0.0857\n",
      "Epoch 8/15\n",
      "\u001B[1m750/750\u001B[0m \u001B[32m━━━━━━━━━━━━━━━━━━━━\u001B[0m\u001B[37m\u001B[0m \u001B[1m4s\u001B[0m 5ms/step - accuracy: 0.9873 - loss: 0.0417 - val_accuracy: 0.9766 - val_loss: 0.0979\n",
      "Epoch 9/15\n",
      "\u001B[1m750/750\u001B[0m \u001B[32m━━━━━━━━━━━━━━━━━━━━\u001B[0m\u001B[37m\u001B[0m \u001B[1m4s\u001B[0m 5ms/step - accuracy: 0.9871 - loss: 0.0410 - val_accuracy: 0.9785 - val_loss: 0.0778\n",
      "Epoch 10/15\n",
      "\u001B[1m750/750\u001B[0m \u001B[32m━━━━━━━━━━━━━━━━━━━━\u001B[0m\u001B[37m\u001B[0m \u001B[1m4s\u001B[0m 5ms/step - accuracy: 0.9879 - loss: 0.0345 - val_accuracy: 0.9772 - val_loss: 0.0877\n",
      "Epoch 11/15\n",
      "\u001B[1m750/750\u001B[0m \u001B[32m━━━━━━━━━━━━━━━━━━━━\u001B[0m\u001B[37m\u001B[0m \u001B[1m4s\u001B[0m 5ms/step - accuracy: 0.9893 - loss: 0.0330 - val_accuracy: 0.9793 - val_loss: 0.0821\n",
      "Epoch 12/15\n",
      "\u001B[1m750/750\u001B[0m \u001B[32m━━━━━━━━━━━━━━━━━━━━\u001B[0m\u001B[37m\u001B[0m \u001B[1m4s\u001B[0m 5ms/step - accuracy: 0.9901 - loss: 0.0293 - val_accuracy: 0.9802 - val_loss: 0.0827\n",
      "Epoch 13/15\n",
      "\u001B[1m750/750\u001B[0m \u001B[32m━━━━━━━━━━━━━━━━━━━━\u001B[0m\u001B[37m\u001B[0m \u001B[1m4s\u001B[0m 6ms/step - accuracy: 0.9904 - loss: 0.0277 - val_accuracy: 0.9792 - val_loss: 0.0924\n",
      "Epoch 14/15\n",
      "\u001B[1m750/750\u001B[0m \u001B[32m━━━━━━━━━━━━━━━━━━━━\u001B[0m\u001B[37m\u001B[0m \u001B[1m4s\u001B[0m 5ms/step - accuracy: 0.9909 - loss: 0.0270 - val_accuracy: 0.9762 - val_loss: 0.0993\n",
      "Epoch 15/15\n",
      "\u001B[1m750/750\u001B[0m \u001B[32m━━━━━━━━━━━━━━━━━━━━\u001B[0m\u001B[37m\u001B[0m \u001B[1m4s\u001B[0m 5ms/step - accuracy: 0.9904 - loss: 0.0307 - val_accuracy: 0.9794 - val_loss: 0.0875\n",
      "\u001B[1m313/313\u001B[0m \u001B[32m━━━━━━━━━━━━━━━━━━━━\u001B[0m\u001B[37m\u001B[0m \u001B[1m0s\u001B[0m 1ms/step - accuracy: 0.9769 - loss: 0.0808\n",
      "Test accuracy: 0.980400025844574\n"
     ]
    }
   ],
   "execution_count": 26
  },
  {
   "metadata": {},
   "cell_type": "code",
   "outputs": [],
   "execution_count": null,
   "source": ""
  },
  {
   "metadata": {
    "ExecuteTime": {
     "end_time": "2025-07-23T23:20:02.723207Z",
     "start_time": "2025-07-23T23:15:32.970129Z"
    }
   },
   "cell_type": "code",
   "source": [
    "#with conv2d and maxpooling2d\n",
    "import tensorflow as tf\n",
    "from tensorflow.keras.models import Sequential\n",
    "from tensorflow.keras.layers import Conv2D, MaxPooling2D, Flatten, Dense, Dropout, BatchNormalization\n",
    "from tensorflow.keras.datasets import mnist\n",
    "from tensorflow.keras.utils import to_categorical\n",
    "\n",
    "# Load the MNIST dataset\n",
    "(x_train, y_train), (x_test, y_test) = mnist.load_data()\n",
    "\n",
    "# Reshape and normalize\n",
    "x_train = x_train.reshape(-1, 28, 28, 1).astype('float32') / 255.0\n",
    "x_test = x_test.reshape(-1, 28, 28, 1).astype('float32') / 255.0\n",
    "y_train = to_categorical(y_train, 10)\n",
    "y_test = to_categorical(y_test, 10)\n",
    "\n",
    "# Build the CNN model\n",
    "model = Sequential([\n",
    "    Conv2D(32, (3, 3), activation='relu', input_shape=(28, 28, 1)),\n",
    "    BatchNormalization(),\n",
    "    Conv2D(32, (3, 3), activation='relu'),\n",
    "    MaxPooling2D(pool_size=(2, 2)),\n",
    "    Dropout(0.25),\n",
    "\n",
    "    Conv2D(64, (3, 3), activation='relu'),\n",
    "    BatchNormalization(),\n",
    "    Conv2D(64, (3, 3), activation='relu'),\n",
    "    MaxPooling2D(pool_size=(2, 2)),\n",
    "    Dropout(0.25),\n",
    "\n",
    "    Flatten(),\n",
    "    Dense(256, activation='relu'),\n",
    "    Dropout(0.5),\n",
    "    Dense(10, activation='softmax')\n",
    "])\n",
    "\n",
    "# Compile the model\n",
    "model.compile(optimizer='adam', loss='categorical_crossentropy', metrics=['accuracy'])\n",
    "\n",
    "# Train the model\n",
    "model.fit(x_train, y_train,\n",
    "          batch_size=128,\n",
    "          epochs=15,\n",
    "          validation_split=0.1,\n",
    "          verbose=2)\n",
    "\n",
    "# Evaluate\n",
    "test_loss, test_acc = model.evaluate(x_test, y_test)\n",
    "print(f'Test accuracy: {test_acc:.4f}')"
   ],
   "outputs": [
    {
     "name": "stdout",
     "output_type": "stream",
     "text": [
      "Epoch 1/15\n"
     ]
    },
    {
     "name": "stderr",
     "output_type": "stream",
     "text": [
      "/opt/anaconda3/envs/ICP3_B.ipynb/lib/python3.12/site-packages/keras/src/layers/convolutional/base_conv.py:113: UserWarning: Do not pass an `input_shape`/`input_dim` argument to a layer. When using Sequential models, prefer using an `Input(shape)` object as the first layer in the model instead.\n",
      "  super().__init__(activity_regularizer=activity_regularizer, **kwargs)\n"
     ]
    },
    {
     "name": "stdout",
     "output_type": "stream",
     "text": [
      "422/422 - 17s - 39ms/step - accuracy: 0.9052 - loss: 0.3125 - val_accuracy: 0.9523 - val_loss: 0.1892\n",
      "Epoch 2/15\n",
      "422/422 - 16s - 38ms/step - accuracy: 0.9721 - loss: 0.0938 - val_accuracy: 0.9873 - val_loss: 0.0426\n",
      "Epoch 3/15\n",
      "422/422 - 16s - 39ms/step - accuracy: 0.9796 - loss: 0.0690 - val_accuracy: 0.9930 - val_loss: 0.0281\n",
      "Epoch 4/15\n",
      "422/422 - 17s - 39ms/step - accuracy: 0.9831 - loss: 0.0576 - val_accuracy: 0.9913 - val_loss: 0.0294\n",
      "Epoch 5/15\n",
      "422/422 - 17s - 41ms/step - accuracy: 0.9862 - loss: 0.0468 - val_accuracy: 0.9927 - val_loss: 0.0285\n",
      "Epoch 6/15\n",
      "422/422 - 17s - 41ms/step - accuracy: 0.9874 - loss: 0.0416 - val_accuracy: 0.9930 - val_loss: 0.0251\n",
      "Epoch 7/15\n",
      "422/422 - 17s - 41ms/step - accuracy: 0.9884 - loss: 0.0374 - val_accuracy: 0.9932 - val_loss: 0.0323\n",
      "Epoch 8/15\n",
      "422/422 - 17s - 41ms/step - accuracy: 0.9890 - loss: 0.0346 - val_accuracy: 0.9928 - val_loss: 0.0303\n",
      "Epoch 9/15\n",
      "422/422 - 18s - 42ms/step - accuracy: 0.9898 - loss: 0.0343 - val_accuracy: 0.9940 - val_loss: 0.0269\n",
      "Epoch 10/15\n",
      "422/422 - 18s - 44ms/step - accuracy: 0.9907 - loss: 0.0312 - val_accuracy: 0.9927 - val_loss: 0.0309\n",
      "Epoch 11/15\n",
      "422/422 - 19s - 45ms/step - accuracy: 0.9909 - loss: 0.0301 - val_accuracy: 0.9922 - val_loss: 0.0314\n",
      "Epoch 12/15\n",
      "422/422 - 19s - 46ms/step - accuracy: 0.9914 - loss: 0.0282 - val_accuracy: 0.9933 - val_loss: 0.0267\n",
      "Epoch 13/15\n",
      "422/422 - 20s - 46ms/step - accuracy: 0.9917 - loss: 0.0257 - val_accuracy: 0.9928 - val_loss: 0.0273\n",
      "Epoch 14/15\n",
      "422/422 - 19s - 46ms/step - accuracy: 0.9930 - loss: 0.0248 - val_accuracy: 0.9928 - val_loss: 0.0255\n",
      "Epoch 15/15\n",
      "422/422 - 20s - 46ms/step - accuracy: 0.9931 - loss: 0.0225 - val_accuracy: 0.9943 - val_loss: 0.0240\n",
      "\u001B[1m313/313\u001B[0m \u001B[32m━━━━━━━━━━━━━━━━━━━━\u001B[0m\u001B[37m\u001B[0m \u001B[1m1s\u001B[0m 4ms/step - accuracy: 0.9935 - loss: 0.0193\n",
      "Test accuracy: 0.9947\n"
     ]
    }
   ],
   "execution_count": 30
  },
  {
   "metadata": {
    "ExecuteTime": {
     "end_time": "2025-07-23T23:21:17.991271Z",
     "start_time": "2025-07-23T23:21:17.808852Z"
    }
   },
   "cell_type": "code",
   "source": [
    "import tensorflow as tf\n",
    "from tensorflow.keras.models import Sequential\n",
    "from tensorflow.keras.layers import Dense, Flatten\n",
    "from tensorflow.keras.datasets import mnist\n",
    "from tensorflow.keras.utils import to_categorical\n",
    "\n",
    "(x_train, y_train), (x_test, y_test) = mnist.load_data()\n",
    "x_train = x_train.astype(\"float32\") / 255.0\n",
    "x_test = x_test.astype(\"float32\") / 255.0\n",
    "y_train = to_categorical(y_train, 10)\n",
    "y_test = to_categorical(y_test, 10)\n",
    "\n",
    "def build_model(optimizer):\n",
    "    model = Sequential([\n",
    "        Flatten(input_shape=(28, 28)),\n",
    "        Dense(512, activation='relu'),\n",
    "        Dense(256, activation='relu'),\n",
    "        Dense(128, activation='relu'),\n",
    "        Dense(64, activation='relu'),\n",
    "        Dense(32, activation='relu'),\n",
    "        Dense(10, activation='softmax')\n",
    "    ])\n",
    "    model.compile(optimizer=optimizer, loss='categorical_crossentropy', metrics=['accuracy'])\n",
    "    return model"
   ],
   "outputs": [],
   "execution_count": 31
  },
  {
   "metadata": {
    "ExecuteTime": {
     "end_time": "2025-07-23T23:21:48.978765Z",
     "start_time": "2025-07-23T23:21:30.852355Z"
    }
   },
   "cell_type": "code",
   "source": [
    "model_sgd = build_model(optimizer='sgd')\n",
    "model_sgd.fit(x_train, y_train, epochs=20, batch_size=128, validation_split=0.1, verbose=2)\n",
    "test_loss, test_acc = model_sgd.evaluate(x_test, y_test)\n",
    "print(f\"SGD Test Accuracy: {test_acc:.4f}\")"
   ],
   "outputs": [
    {
     "name": "stdout",
     "output_type": "stream",
     "text": [
      "Epoch 1/20\n",
      "422/422 - 1s - 3ms/step - accuracy: 0.5781 - loss: 1.4049 - val_accuracy: 0.8473 - val_loss: 0.5736\n",
      "Epoch 2/20\n",
      "422/422 - 1s - 2ms/step - accuracy: 0.8646 - loss: 0.4896 - val_accuracy: 0.9133 - val_loss: 0.3199\n",
      "Epoch 3/20\n",
      "422/422 - 1s - 2ms/step - accuracy: 0.9017 - loss: 0.3517 - val_accuracy: 0.9192 - val_loss: 0.2771\n",
      "Epoch 4/20\n",
      "422/422 - 1s - 2ms/step - accuracy: 0.9188 - loss: 0.2903 - val_accuracy: 0.9392 - val_loss: 0.2206\n",
      "Epoch 5/20\n",
      "422/422 - 1s - 2ms/step - accuracy: 0.9283 - loss: 0.2506 - val_accuracy: 0.9455 - val_loss: 0.1938\n",
      "Epoch 6/20\n",
      "422/422 - 1s - 2ms/step - accuracy: 0.9369 - loss: 0.2203 - val_accuracy: 0.9535 - val_loss: 0.1679\n",
      "Epoch 7/20\n",
      "422/422 - 1s - 2ms/step - accuracy: 0.9435 - loss: 0.1959 - val_accuracy: 0.9542 - val_loss: 0.1623\n",
      "Epoch 8/20\n",
      "422/422 - 1s - 2ms/step - accuracy: 0.9483 - loss: 0.1769 - val_accuracy: 0.9618 - val_loss: 0.1391\n",
      "Epoch 9/20\n",
      "422/422 - 1s - 2ms/step - accuracy: 0.9530 - loss: 0.1617 - val_accuracy: 0.9640 - val_loss: 0.1361\n",
      "Epoch 10/20\n",
      "422/422 - 1s - 2ms/step - accuracy: 0.9576 - loss: 0.1472 - val_accuracy: 0.9672 - val_loss: 0.1252\n",
      "Epoch 11/20\n",
      "422/422 - 1s - 2ms/step - accuracy: 0.9611 - loss: 0.1352 - val_accuracy: 0.9665 - val_loss: 0.1179\n",
      "Epoch 12/20\n",
      "422/422 - 1s - 2ms/step - accuracy: 0.9644 - loss: 0.1254 - val_accuracy: 0.9702 - val_loss: 0.1100\n",
      "Epoch 13/20\n",
      "422/422 - 1s - 2ms/step - accuracy: 0.9666 - loss: 0.1168 - val_accuracy: 0.9700 - val_loss: 0.1064\n",
      "Epoch 14/20\n",
      "422/422 - 1s - 2ms/step - accuracy: 0.9690 - loss: 0.1090 - val_accuracy: 0.9667 - val_loss: 0.1148\n",
      "Epoch 15/20\n",
      "422/422 - 1s - 2ms/step - accuracy: 0.9705 - loss: 0.1018 - val_accuracy: 0.9687 - val_loss: 0.1056\n",
      "Epoch 16/20\n",
      "422/422 - 1s - 2ms/step - accuracy: 0.9725 - loss: 0.0948 - val_accuracy: 0.9718 - val_loss: 0.0980\n",
      "Epoch 17/20\n",
      "422/422 - 1s - 2ms/step - accuracy: 0.9747 - loss: 0.0882 - val_accuracy: 0.9670 - val_loss: 0.1126\n",
      "Epoch 18/20\n",
      "422/422 - 1s - 2ms/step - accuracy: 0.9766 - loss: 0.0833 - val_accuracy: 0.9742 - val_loss: 0.0910\n",
      "Epoch 19/20\n",
      "422/422 - 1s - 2ms/step - accuracy: 0.9779 - loss: 0.0780 - val_accuracy: 0.9735 - val_loss: 0.0946\n",
      "Epoch 20/20\n",
      "422/422 - 1s - 2ms/step - accuracy: 0.9793 - loss: 0.0734 - val_accuracy: 0.9742 - val_loss: 0.0870\n",
      "\u001B[1m313/313\u001B[0m \u001B[32m━━━━━━━━━━━━━━━━━━━━\u001B[0m\u001B[37m\u001B[0m \u001B[1m0s\u001B[0m 549us/step - accuracy: 0.9634 - loss: 0.1193\n",
      "SGD Test Accuracy: 0.9673\n"
     ]
    }
   ],
   "execution_count": 32
  },
  {
   "metadata": {
    "ExecuteTime": {
     "end_time": "2025-07-23T23:22:15.623372Z",
     "start_time": "2025-07-23T23:21:52.238906Z"
    }
   },
   "cell_type": "code",
   "source": [
    "model_rmsprop = build_model(optimizer='rmsprop')\n",
    "model_rmsprop.fit(x_train, y_train, epochs=20, batch_size=128, validation_split=0.1, verbose=2)\n",
    "test_loss, test_acc = model_rmsprop.evaluate(x_test, y_test)\n",
    "print(f\"RMSprop Test Accuracy: {test_acc:.4f}\")"
   ],
   "outputs": [
    {
     "name": "stdout",
     "output_type": "stream",
     "text": [
      "Epoch 1/20\n",
      "422/422 - 1s - 3ms/step - accuracy: 0.9004 - loss: 0.3295 - val_accuracy: 0.9648 - val_loss: 0.1202\n",
      "Epoch 2/20\n",
      "422/422 - 1s - 3ms/step - accuracy: 0.9666 - loss: 0.1105 - val_accuracy: 0.9740 - val_loss: 0.0776\n",
      "Epoch 3/20\n",
      "422/422 - 1s - 3ms/step - accuracy: 0.9779 - loss: 0.0715 - val_accuracy: 0.9793 - val_loss: 0.0700\n",
      "Epoch 4/20\n",
      "422/422 - 1s - 2ms/step - accuracy: 0.9836 - loss: 0.0518 - val_accuracy: 0.9820 - val_loss: 0.0683\n",
      "Epoch 5/20\n",
      "422/422 - 1s - 3ms/step - accuracy: 0.9868 - loss: 0.0429 - val_accuracy: 0.9763 - val_loss: 0.0957\n",
      "Epoch 6/20\n",
      "422/422 - 1s - 3ms/step - accuracy: 0.9903 - loss: 0.0314 - val_accuracy: 0.9800 - val_loss: 0.0828\n",
      "Epoch 7/20\n",
      "422/422 - 1s - 3ms/step - accuracy: 0.9917 - loss: 0.0271 - val_accuracy: 0.9807 - val_loss: 0.0861\n",
      "Epoch 8/20\n",
      "422/422 - 1s - 3ms/step - accuracy: 0.9935 - loss: 0.0221 - val_accuracy: 0.9788 - val_loss: 0.0946\n",
      "Epoch 9/20\n",
      "422/422 - 1s - 3ms/step - accuracy: 0.9943 - loss: 0.0197 - val_accuracy: 0.9775 - val_loss: 0.0917\n",
      "Epoch 10/20\n",
      "422/422 - 1s - 3ms/step - accuracy: 0.9948 - loss: 0.0168 - val_accuracy: 0.9783 - val_loss: 0.1115\n",
      "Epoch 11/20\n",
      "422/422 - 1s - 3ms/step - accuracy: 0.9962 - loss: 0.0131 - val_accuracy: 0.9857 - val_loss: 0.0735\n",
      "Epoch 12/20\n",
      "422/422 - 1s - 3ms/step - accuracy: 0.9965 - loss: 0.0114 - val_accuracy: 0.9827 - val_loss: 0.0998\n",
      "Epoch 13/20\n",
      "422/422 - 1s - 3ms/step - accuracy: 0.9967 - loss: 0.0113 - val_accuracy: 0.9838 - val_loss: 0.0970\n",
      "Epoch 14/20\n",
      "422/422 - 1s - 3ms/step - accuracy: 0.9971 - loss: 0.0093 - val_accuracy: 0.9758 - val_loss: 0.1423\n",
      "Epoch 15/20\n",
      "422/422 - 1s - 3ms/step - accuracy: 0.9973 - loss: 0.0086 - val_accuracy: 0.9822 - val_loss: 0.1333\n",
      "Epoch 16/20\n",
      "422/422 - 1s - 3ms/step - accuracy: 0.9976 - loss: 0.0081 - val_accuracy: 0.9805 - val_loss: 0.1190\n",
      "Epoch 17/20\n",
      "422/422 - 1s - 3ms/step - accuracy: 0.9979 - loss: 0.0082 - val_accuracy: 0.9840 - val_loss: 0.1001\n",
      "Epoch 18/20\n",
      "422/422 - 1s - 3ms/step - accuracy: 0.9980 - loss: 0.0074 - val_accuracy: 0.9848 - val_loss: 0.0987\n",
      "Epoch 19/20\n",
      "422/422 - 1s - 3ms/step - accuracy: 0.9982 - loss: 0.0064 - val_accuracy: 0.9795 - val_loss: 0.1546\n",
      "Epoch 20/20\n",
      "422/422 - 1s - 3ms/step - accuracy: 0.9980 - loss: 0.0077 - val_accuracy: 0.9802 - val_loss: 0.1335\n",
      "\u001B[1m313/313\u001B[0m \u001B[32m━━━━━━━━━━━━━━━━━━━━\u001B[0m\u001B[37m\u001B[0m \u001B[1m0s\u001B[0m 915us/step - accuracy: 0.9744 - loss: 0.1501\n",
      "RMSprop Test Accuracy: 0.9783\n"
     ]
    }
   ],
   "execution_count": 33
  },
  {
   "metadata": {
    "ExecuteTime": {
     "end_time": "2025-07-23T23:22:38.616400Z",
     "start_time": "2025-07-23T23:22:17.221162Z"
    }
   },
   "cell_type": "code",
   "source": [
    "model_adagrad = build_model(optimizer='adagrad')\n",
    "model_adagrad.fit(x_train, y_train, epochs=20, batch_size=128, validation_split=0.1, verbose=2)\n",
    "test_loss, test_acc = model_adagrad.evaluate(x_test, y_test)\n",
    "print(f\"Adagrad Test Accuracy: {test_acc:.4f}\")\n"
   ],
   "outputs": [
    {
     "name": "stdout",
     "output_type": "stream",
     "text": [
      "Epoch 1/20\n",
      "422/422 - 1s - 3ms/step - accuracy: 0.3534 - loss: 2.0847 - val_accuracy: 0.5573 - val_loss: 1.7119\n",
      "Epoch 2/20\n",
      "422/422 - 1s - 3ms/step - accuracy: 0.6451 - loss: 1.3109 - val_accuracy: 0.7770 - val_loss: 0.9180\n",
      "Epoch 3/20\n",
      "422/422 - 1s - 2ms/step - accuracy: 0.7993 - loss: 0.7974 - val_accuracy: 0.8597 - val_loss: 0.5995\n",
      "Epoch 4/20\n",
      "422/422 - 1s - 2ms/step - accuracy: 0.8449 - loss: 0.5929 - val_accuracy: 0.8843 - val_loss: 0.4633\n",
      "Epoch 5/20\n",
      "422/422 - 1s - 2ms/step - accuracy: 0.8680 - loss: 0.4920 - val_accuracy: 0.8990 - val_loss: 0.3910\n",
      "Epoch 6/20\n",
      "422/422 - 1s - 3ms/step - accuracy: 0.8821 - loss: 0.4316 - val_accuracy: 0.9080 - val_loss: 0.3461\n",
      "Epoch 7/20\n",
      "422/422 - 1s - 2ms/step - accuracy: 0.8919 - loss: 0.3906 - val_accuracy: 0.9152 - val_loss: 0.3151\n",
      "Epoch 8/20\n",
      "422/422 - 1s - 2ms/step - accuracy: 0.8994 - loss: 0.3608 - val_accuracy: 0.9210 - val_loss: 0.2916\n",
      "Epoch 9/20\n",
      "422/422 - 1s - 2ms/step - accuracy: 0.9061 - loss: 0.3378 - val_accuracy: 0.9258 - val_loss: 0.2745\n",
      "Epoch 10/20\n",
      "422/422 - 1s - 2ms/step - accuracy: 0.9108 - loss: 0.3189 - val_accuracy: 0.9273 - val_loss: 0.2617\n",
      "Epoch 11/20\n",
      "422/422 - 1s - 2ms/step - accuracy: 0.9149 - loss: 0.3034 - val_accuracy: 0.9302 - val_loss: 0.2490\n",
      "Epoch 12/20\n",
      "422/422 - 1s - 2ms/step - accuracy: 0.9189 - loss: 0.2900 - val_accuracy: 0.9342 - val_loss: 0.2380\n",
      "Epoch 13/20\n",
      "422/422 - 1s - 2ms/step - accuracy: 0.9215 - loss: 0.2781 - val_accuracy: 0.9370 - val_loss: 0.2273\n",
      "Epoch 14/20\n",
      "422/422 - 1s - 2ms/step - accuracy: 0.9250 - loss: 0.2676 - val_accuracy: 0.9402 - val_loss: 0.2209\n",
      "Epoch 15/20\n",
      "422/422 - 1s - 2ms/step - accuracy: 0.9279 - loss: 0.2582 - val_accuracy: 0.9422 - val_loss: 0.2125\n",
      "Epoch 16/20\n",
      "422/422 - 1s - 3ms/step - accuracy: 0.9298 - loss: 0.2495 - val_accuracy: 0.9435 - val_loss: 0.2069\n",
      "Epoch 17/20\n",
      "422/422 - 1s - 2ms/step - accuracy: 0.9320 - loss: 0.2419 - val_accuracy: 0.9458 - val_loss: 0.1993\n",
      "Epoch 18/20\n",
      "422/422 - 1s - 2ms/step - accuracy: 0.9338 - loss: 0.2346 - val_accuracy: 0.9493 - val_loss: 0.1936\n",
      "Epoch 19/20\n",
      "422/422 - 1s - 2ms/step - accuracy: 0.9357 - loss: 0.2277 - val_accuracy: 0.9483 - val_loss: 0.1906\n",
      "Epoch 20/20\n",
      "422/422 - 1s - 3ms/step - accuracy: 0.9374 - loss: 0.2217 - val_accuracy: 0.9490 - val_loss: 0.1848\n",
      "\u001B[1m313/313\u001B[0m \u001B[32m━━━━━━━━━━━━━━━━━━━━\u001B[0m\u001B[37m\u001B[0m \u001B[1m0s\u001B[0m 509us/step - accuracy: 0.9293 - loss: 0.2476\n",
      "Adagrad Test Accuracy: 0.9390\n"
     ]
    }
   ],
   "execution_count": 34
  },
  {
   "metadata": {
    "ExecuteTime": {
     "end_time": "2025-07-23T23:23:16.664618Z",
     "start_time": "2025-07-23T23:22:52.020594Z"
    }
   },
   "cell_type": "code",
   "source": [
    "model_adamax = build_model(optimizer='adamax')\n",
    "model_adamax.fit(x_train, y_train, epochs=20, batch_size=128, validation_split=0.1, verbose=2)\n",
    "test_loss, test_acc = model_adamax.evaluate(x_test, y_test)\n",
    "print(f\"Adamax Test Accuracy: {test_acc:.4f}\")\n"
   ],
   "outputs": [
    {
     "name": "stdout",
     "output_type": "stream",
     "text": [
      "Epoch 1/20\n",
      "422/422 - 2s - 4ms/step - accuracy: 0.8925 - loss: 0.3681 - val_accuracy: 0.9573 - val_loss: 0.1533\n",
      "Epoch 2/20\n",
      "422/422 - 1s - 3ms/step - accuracy: 0.9573 - loss: 0.1449 - val_accuracy: 0.9740 - val_loss: 0.0956\n",
      "Epoch 3/20\n",
      "422/422 - 1s - 3ms/step - accuracy: 0.9715 - loss: 0.0982 - val_accuracy: 0.9777 - val_loss: 0.0818\n",
      "Epoch 4/20\n",
      "422/422 - 1s - 3ms/step - accuracy: 0.9779 - loss: 0.0733 - val_accuracy: 0.9740 - val_loss: 0.0879\n",
      "Epoch 5/20\n",
      "422/422 - 1s - 3ms/step - accuracy: 0.9833 - loss: 0.0543 - val_accuracy: 0.9775 - val_loss: 0.0774\n",
      "Epoch 6/20\n",
      "422/422 - 1s - 3ms/step - accuracy: 0.9873 - loss: 0.0430 - val_accuracy: 0.9792 - val_loss: 0.0771\n",
      "Epoch 7/20\n",
      "422/422 - 1s - 3ms/step - accuracy: 0.9901 - loss: 0.0334 - val_accuracy: 0.9788 - val_loss: 0.0820\n",
      "Epoch 8/20\n",
      "422/422 - 1s - 3ms/step - accuracy: 0.9925 - loss: 0.0255 - val_accuracy: 0.9778 - val_loss: 0.0824\n",
      "Epoch 9/20\n",
      "422/422 - 1s - 3ms/step - accuracy: 0.9943 - loss: 0.0197 - val_accuracy: 0.9788 - val_loss: 0.0875\n",
      "Epoch 10/20\n",
      "422/422 - 1s - 3ms/step - accuracy: 0.9960 - loss: 0.0151 - val_accuracy: 0.9803 - val_loss: 0.0763\n",
      "Epoch 11/20\n",
      "422/422 - 1s - 3ms/step - accuracy: 0.9970 - loss: 0.0110 - val_accuracy: 0.9768 - val_loss: 0.0901\n",
      "Epoch 12/20\n",
      "422/422 - 1s - 3ms/step - accuracy: 0.9975 - loss: 0.0092 - val_accuracy: 0.9812 - val_loss: 0.0795\n",
      "Epoch 13/20\n",
      "422/422 - 1s - 3ms/step - accuracy: 0.9988 - loss: 0.0053 - val_accuracy: 0.9840 - val_loss: 0.0777\n",
      "Epoch 14/20\n",
      "422/422 - 1s - 3ms/step - accuracy: 0.9986 - loss: 0.0048 - val_accuracy: 0.9790 - val_loss: 0.0927\n",
      "Epoch 15/20\n",
      "422/422 - 1s - 3ms/step - accuracy: 0.9993 - loss: 0.0039 - val_accuracy: 0.9833 - val_loss: 0.0857\n",
      "Epoch 16/20\n",
      "422/422 - 1s - 3ms/step - accuracy: 0.9994 - loss: 0.0029 - val_accuracy: 0.9817 - val_loss: 0.0910\n",
      "Epoch 17/20\n",
      "422/422 - 1s - 3ms/step - accuracy: 0.9995 - loss: 0.0023 - val_accuracy: 0.9805 - val_loss: 0.1004\n",
      "Epoch 18/20\n",
      "422/422 - 1s - 3ms/step - accuracy: 0.9997 - loss: 0.0017 - val_accuracy: 0.9820 - val_loss: 0.0906\n",
      "Epoch 19/20\n",
      "422/422 - 1s - 3ms/step - accuracy: 0.9999 - loss: 8.3714e-04 - val_accuracy: 0.9828 - val_loss: 0.0885\n",
      "Epoch 20/20\n",
      "422/422 - 1s - 3ms/step - accuracy: 1.0000 - loss: 3.6359e-04 - val_accuracy: 0.9837 - val_loss: 0.0946\n",
      "\u001B[1m313/313\u001B[0m \u001B[32m━━━━━━━━━━━━━━━━━━━━\u001B[0m\u001B[37m\u001B[0m \u001B[1m0s\u001B[0m 528us/step - accuracy: 0.9806 - loss: 0.1029\n",
      "Adamax Test Accuracy: 0.9827\n"
     ]
    }
   ],
   "execution_count": 35
  }
 ]
}
