{
  "nbformat": 4,
  "nbformat_minor": 0,
  "metadata": {
    "colab": {
      "provenance": [],
      "authorship_tag": "ABX9TyPUVmBRnNmJiY7TIk3RWRoj",
      "include_colab_link": true
    },
    "kernelspec": {
      "name": "python3",
      "display_name": "Python 3"
    },
    "language_info": {
      "name": "python"
    }
  },
  "cells": [
    {
      "cell_type": "markdown",
      "metadata": {
        "id": "view-in-github",
        "colab_type": "text"
      },
      "source": [
        "<a href=\"https://colab.research.google.com/github/AnandVarmaVegesna1/BDMCLASS/blob/main/week3.ipynb\" target=\"_parent\"><img src=\"https://colab.research.google.com/assets/colab-badge.svg\" alt=\"Open In Colab\"/></a>"
      ]
    },
    {
      "cell_type": "code",
      "execution_count": 19,
      "metadata": {
        "colab": {
          "base_uri": "https://localhost:8080/"
        },
        "id": "SR549zKntHxA",
        "outputId": "a995d250-8ceb-4f25-f73f-0a786a3cb3e9"
      },
      "outputs": [
        {
          "output_type": "stream",
          "name": "stdout",
          "text": [
            "Instance count: 1,Class count: 2\n",
            "Instance count: 1,Class count: 2\n"
          ]
        }
      ],
      "source": [
        "\n",
        "\n",
        "# Counter.count :It returns current value of the count\n",
        "# self.count: It is used to imnitilize the value of count\n",
        "\n",
        "#Instance count: 2,Class count: 3\n",
        "#Instance count: 1,Class count: 3\n",
        "\n",
        "#It Increases Both the Objects own count and the class count\n"
      ]
    },
    {
      "cell_type": "code",
      "source": [
        "def sum_all(*args):\n",
        "  return sum(args)\n",
        "\n",
        "print(\"Sum of 1,2,3 is:\", sum_all(1,2,3))\n",
        "print(\"Sum of 4,5,6,7 is:\", sum_all(4,5,6,7))"
      ],
      "metadata": {
        "colab": {
          "base_uri": "https://localhost:8080/"
        },
        "id": "OKOsLa7RvmAK",
        "outputId": "3bb52955-c690-4282-84c8-ab5b97c559dd"
      },
      "execution_count": 9,
      "outputs": [
        {
          "output_type": "stream",
          "name": "stdout",
          "text": [
            "Sum of 1,2,3 is: 6\n",
            "Sum of 4,5,6,7 is: 22\n"
          ]
        }
      ]
    },
    {
      "cell_type": "code",
      "source": [],
      "metadata": {
        "id": "7A85UeriwKcq"
      },
      "execution_count": null,
      "outputs": []
    },
    {
      "cell_type": "code",
      "source": [
        "def first_word(args):\n",
        "    sorted_args = sorted(args)  #sorting the values\n",
        "    return sorted_args[0]  #returning the values\n",
        "\n",
        "\n",
        "students = ['Mary', 'Zelda', 'Jimmy', 'Jack', 'Bartholomew', 'Gertrude']\n",
        "print(first_word(students))"
      ],
      "metadata": {
        "colab": {
          "base_uri": "https://localhost:8080/"
        },
        "id": "vPR8STJXy71H",
        "outputId": "5cc24b14-2663-42f2-ef49-678f295e0b7f"
      },
      "execution_count": 20,
      "outputs": [
        {
          "output_type": "stream",
          "name": "stdout",
          "text": [
            "Bartholomew\n"
          ]
        }
      ]
    },
    {
      "cell_type": "code",
      "source": [],
      "metadata": {
        "id": "gI2bUlnlzCe5"
      },
      "execution_count": null,
      "outputs": []
    },
    {
      "cell_type": "code",
      "source": [
        "class Employee:\n",
        "    count = 0  # Tracks total employees\n",
        "    all_salaries = []   # Stores all employee salaries\n",
        "\n",
        "    def __init__(self, name, family, salary, dept):\n",
        "        self.name = name\n",
        "        self.family = family\n",
        "        self.salary = salary\n",
        "        self.dept = dept\n",
        "        Employee.count += 1\n",
        "        Employee.all_salaries.append(salary)\n",
        "\n",
        "    def average_salary(self):\n",
        "        return sum(Employee.all_salaries) / Employee.count if Employee.count else 0\n",
        "\n",
        "\n",
        "class FullTimeEmployee(Employee):  # Inherits from Employee\n",
        "    def __init__(self, name, family, salary, dept):\n",
        "        super().__init__(name, family, salary, dept)\n",
        "\n",
        "\n",
        "# Creating instances\n",
        "e1 = FullTimeEmployee(\"John\", \"Smith\", 20000, \"IT\")\n",
        "e2 = FullTimeEmployee(\"John\", \"David\", 30000, \"Sales\")\n",
        "e3 = Employee(\"Alice\", \"Kennedy\", 50000, \"HR\")\n",
        "\n",
        "# Output\n",
        "print(\"Total Employees:\", Employee.count)\n",
        "print(\"Average Salary:\", round(e1.average_salary(), 2))"
      ],
      "metadata": {
        "colab": {
          "base_uri": "https://localhost:8080/"
        },
        "id": "Z1a4cjkdzzqB",
        "outputId": "4158224c-1214-4d41-a10d-1128bc76787f"
      },
      "execution_count": 17,
      "outputs": [
        {
          "output_type": "stream",
          "name": "stdout",
          "text": [
            "Total Employees: 3\n",
            "Average Salary: 33333.33\n"
          ]
        }
      ]
    }
  ]
}